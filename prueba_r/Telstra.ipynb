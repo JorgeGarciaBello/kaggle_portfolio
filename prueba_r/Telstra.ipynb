{
 "cells": [
  {
   "cell_type": "markdown",
   "metadata": {},
   "source": [
    "# Objetivo: Predecir el fallo de una red"
   ]
  },
  {
   "cell_type": "code",
   "execution_count": 1,
   "metadata": {},
   "outputs": [],
   "source": [
    "# Librerías\n",
    "%matplotlib inline\n",
    "import matplotlib.pyplot as plt\n",
    "import pandas as pd\n",
    "import numpy as np\n",
    "from sklearn.metrics import accuracy_score"
   ]
  },
  {
   "cell_type": "code",
   "execution_count": 2,
   "metadata": {},
   "outputs": [],
   "source": [
    "# Leer datos\n",
    "train = pd.read_csv('telstra-recruiting-network/train.csv')\n",
    "test = pd.read_csv('telstra-recruiting-network/test.csv')\n",
    "severity_type = pd.read_csv('telstra-recruiting-network/severity_type.csv')\n",
    "resource_type = pd.read_csv('telstra-recruiting-network/resource_type.csv')\n",
    "log_feature = pd.read_csv('telstra-recruiting-network/log_feature.csv')\n",
    "event_type = pd.read_csv('telstra-recruiting-network/event_type.csv')"
   ]
  },
  {
   "cell_type": "markdown",
   "metadata": {},
   "source": [
    "# Entendiendo los datos: Inspeccionar conjunto de datos"
   ]
  },
  {
   "cell_type": "code",
   "execution_count": 3,
   "metadata": {},
   "outputs": [
    {
     "data": {
      "text/plain": [
       "(      id  location  fault_severity\n",
       " 0  14121       118               1\n",
       " 1   9320        91               0\n",
       " 2  14394       152               1\n",
       " 3   8218       931               1\n",
       " 4  14804       120               0,\n",
       "                  id     location  fault_severity\n",
       " count   7381.000000  7381.000000      7381.00000\n",
       " mean    9264.649099   624.313779         0.45021\n",
       " std     5349.290176   320.622091         0.66656\n",
       " min        1.000000     1.000000         0.00000\n",
       " 25%     4647.000000   374.000000         0.00000\n",
       " 50%     9222.000000   665.000000         0.00000\n",
       " 75%    13885.000000   893.000000         1.00000\n",
       " max    18550.000000  1126.000000         2.00000)"
      ]
     },
     "execution_count": 3,
     "metadata": {},
     "output_type": "execute_result"
    }
   ],
   "source": [
    "train.head(), train.describe()"
   ]
  },
  {
   "cell_type": "code",
   "execution_count": 4,
   "metadata": {},
   "outputs": [
    {
     "data": {
      "text/plain": [
       "(      id  location\n",
       " 0  11066       481\n",
       " 1  18000       962\n",
       " 2  16964       491\n",
       " 3   4795       532\n",
       " 4   3392       600,\n",
       "                  id      location\n",
       " count  11171.000000  11171.000000\n",
       " mean    9284.330230    623.055769\n",
       " std     5360.065369    322.137234\n",
       " min        2.000000      1.000000\n",
       " 25%     4630.000000    373.000000\n",
       " 50%     9316.000000    676.000000\n",
       " 75%    13926.000000    893.000000\n",
       " max    18552.000000   1125.000000)"
      ]
     },
     "execution_count": 4,
     "metadata": {},
     "output_type": "execute_result"
    }
   ],
   "source": [
    "test.head(), test.describe()"
   ]
  },
  {
   "cell_type": "code",
   "execution_count": 5,
   "metadata": {},
   "outputs": [
    {
     "data": {
      "text/plain": [
       "(     id  severity_type\n",
       " 0  6597              2\n",
       " 1  8011              2\n",
       " 2  2597              2\n",
       " 3  5022              1\n",
       " 4  6852              1,\n",
       "                  id  severity_type\n",
       " count  18552.000000   18552.000000\n",
       " mean    9276.500000       1.649795\n",
       " std     5355.645433       0.773591\n",
       " min        1.000000       1.000000\n",
       " 25%     4638.750000       1.000000\n",
       " 50%     9276.500000       2.000000\n",
       " 75%    13914.250000       2.000000\n",
       " max    18552.000000       5.000000)"
      ]
     },
     "execution_count": 5,
     "metadata": {},
     "output_type": "execute_result"
    }
   ],
   "source": [
    "severity_type.head(), severity_type.describe()"
   ]
  },
  {
   "cell_type": "code",
   "execution_count": 6,
   "metadata": {},
   "outputs": [
    {
     "data": {
      "text/plain": [
       "(     id   resource_type\n",
       " 0  6597               8\n",
       " 1  8011               8\n",
       " 2  2597               8\n",
       " 3  5022               8\n",
       " 4  6852               8,\n",
       "                  id   resource_type\n",
       " count  21076.000000    21076.000000\n",
       " mean    9255.869330        5.279987\n",
       " std     5366.730222        2.924911\n",
       " min        1.000000        1.000000\n",
       " 25%     4599.750000        2.000000\n",
       " 50%     9256.500000        7.000000\n",
       " 75%    13907.250000        8.000000\n",
       " max    18552.000000       10.000000)"
      ]
     },
     "execution_count": 6,
     "metadata": {},
     "output_type": "execute_result"
    }
   ],
   "source": [
    "resource_type.head(), resource_type.describe()"
   ]
  },
  {
   "cell_type": "code",
   "execution_count": 7,
   "metadata": {},
   "outputs": [
    {
     "data": {
      "text/plain": [
       "(     id  log_feature  volume\n",
       " 0  6597           68       6\n",
       " 1  8011           68       7\n",
       " 2  2597           68       1\n",
       " 3  5022          172       2\n",
       " 4  5022           56       1,\n",
       "                  id   log_feature        volume\n",
       " count  58671.000000  58671.000000  58671.000000\n",
       " mean    9271.368905    209.092465      9.685296\n",
       " std     5355.142878     93.066417     27.314433\n",
       " min        1.000000      1.000000      1.000000\n",
       " 25%     4658.500000    134.000000      1.000000\n",
       " 50%     9275.000000    227.000000      2.000000\n",
       " 75%    13903.000000    307.000000      7.000000\n",
       " max    18552.000000    386.000000   1310.000000)"
      ]
     },
     "execution_count": 7,
     "metadata": {},
     "output_type": "execute_result"
    }
   ],
   "source": [
    "log_feature.head(), log_feature.describe()"
   ]
  },
  {
   "cell_type": "code",
   "execution_count": 8,
   "metadata": {},
   "outputs": [
    {
     "data": {
      "text/plain": [
       "(     id   event_type\n",
       " 0  6597           11\n",
       " 1  8011           15\n",
       " 2  2597           15\n",
       " 3  5022           15\n",
       " 4  5022           11,\n",
       "                  id    event_type\n",
       " count  31170.000000  31170.000000\n",
       " mean    9267.735258     24.740680\n",
       " std     5363.817181     12.152183\n",
       " min        1.000000      1.000000\n",
       " 25%     4625.250000     11.000000\n",
       " 50%     9287.500000     23.000000\n",
       " 75%    13915.000000     35.000000\n",
       " max    18552.000000     54.000000)"
      ]
     },
     "execution_count": 8,
     "metadata": {},
     "output_type": "execute_result"
    }
   ],
   "source": [
    "event_type.head(),event_type.describe()"
   ]
  },
  {
   "cell_type": "code",
   "execution_count": 9,
   "metadata": {},
   "outputs": [],
   "source": [
    "#train.isna().describe()           # no exiten registros con locación vacía\n",
    "#severity_type.isna().describe()   # no exiten registros con locación vacía\n",
    "#event_type.isna().describe()      # no exiten registros con locación vacía\n",
    "#log_feature.isna().describe()     # no exiten registros con locación vacía\n",
    "#resource_type.isna().describe()   # no exiten registros con locación vacía"
   ]
  },
  {
   "cell_type": "code",
   "execution_count": 10,
   "metadata": {},
   "outputs": [],
   "source": [
    "#train.isna().describe()           # no exiten registros con locación vacía\n",
    "#len(severity_type.id.unique())    # no exiten registros con locación vacía\n",
    "#len(event_type.id.unique())       # no exiten registros con locación vacía\n",
    "#len(log_feature.id.unique())      # no exiten registros con locación vacía\n",
    "#len(resource_type.id.unique())    # no exiten registros con locación vacía"
   ]
  },
  {
   "cell_type": "code",
   "execution_count": 11,
   "metadata": {},
   "outputs": [
    {
     "name": "stdout",
     "output_type": "stream",
     "text": [
      "fault_severity\n",
      "0    4784\n",
      "1    1871\n",
      "2     726\n",
      "dtype: int64\n"
     ]
    }
   ],
   "source": [
    "# Veamos como se distribuyen los 'fault_severity' y veamoslo visualmente\n",
    "print(train.groupby('fault_severity').size())"
   ]
  },
  {
   "cell_type": "code",
   "execution_count": 12,
   "metadata": {},
   "outputs": [
    {
     "data": {
      "image/png": "[encoded data removed]",
      "text/plain": [
       "<Figure size 432x288 with 1 Axes>"
      ]
     },
     "metadata": {
      "needs_background": "light"
     },
     "output_type": "display_data"
    }
   ],
   "source": [
    "import seaborn as sns\n",
    "sns.countplot(train['fault_severity'],label=\"Count\")\n",
    "plt.show()"
   ]
  },
  {
   "cell_type": "code",
   "execution_count": 13,
   "metadata": {},
   "outputs": [],
   "source": [
    "# Después de inspeccionar la base de datos, surguen las siguinete cuestiones:\n",
    "\n",
    "#   ¿Existe alguna relación directa entre la \"locación\" y la #gravedad de la falla\",\n",
    "#   es decir, hay locaciones dónde se presenten fallas de gravedad independientemente de las otras variables?\n",
    "#  \n",
    "#   ¿Relacionando todas las variables a un mismo id, se puede entrenar un modelo de predicción que \n",
    "#   describa los datos en test?\n",
    "#   ¿Qué modelo es el que mejor describe, que utilizamos para deteminar que tan bien predice el modelo?\n",
    "#   ¿Cuáles variables se deben seleccionar?\n",
    "#\n",
    "#   Al tomar en cuenta más variables, en la tabla de \"test\" se debe de ampliar para que contenga las variables\n",
    "#   a considedad, de otra manera el modelo no podra predecir utilizando tales variables.\n",
    "#\n",
    "#   ¿Cuál es la mejor forma de abortar la solución a estas cuentiones?\n"
   ]
  },
  {
   "cell_type": "code",
   "execution_count": 14,
   "metadata": {},
   "outputs": [],
   "source": [
    "# Investigando sobre una posible relación entre \"location\" y \"fault_severity\"\n",
    "r=train.groupby(['location']).mean()\n",
    "r=r[['fault_severity']]"
   ]
  },
  {
   "cell_type": "code",
   "execution_count": 15,
   "metadata": {},
   "outputs": [
    {
     "data": {
      "text/plain": [
       "<matplotlib.axes._subplots.AxesSubplot at 0x7fd41b95bf90>"
      ]
     },
     "execution_count": 15,
     "metadata": {},
     "output_type": "execute_result"
    },
    {
     "data": {
      "image/png": "[encoded data removed]",
      "text/plain": [
       "<Figure size 432x288 with 1 Axes>"
      ]
     },
     "metadata": {
      "needs_background": "light"
     },
     "output_type": "display_data"
    }
   ],
   "source": [
    "r.plot()"
   ]
  },
  {
   "cell_type": "code",
   "execution_count": 16,
   "metadata": {},
   "outputs": [
    {
     "data": {
      "text/plain": [
       "929"
      ]
     },
     "execution_count": 16,
     "metadata": {},
     "output_type": "execute_result"
    }
   ],
   "source": [
    "# Veamos la distribución de los \"fault_severity\" sobre \"location\"\n",
    "\n",
    "locations=train.location.unique()\n",
    "len(locations)"
   ]
  },
  {
   "cell_type": "code",
   "execution_count": 17,
   "metadata": {},
   "outputs": [],
   "source": [
    "k=[]\n",
    "for e in range(0,len(locations)):\n",
    "    dat=train[ train['location']==locations[e] ]\n",
    "    dat_0 = dat[ dat['fault_severity'] == 0 ].fault_severity.count()\n",
    "    dat_1 = dat[ dat['fault_severity'] == 1 ].fault_severity.count()\n",
    "    dat_2 = dat[ dat['fault_severity'] == 2 ].fault_severity.count()\n",
    "    k = {locations[e]: {'zero':dat_0,'one':dat_1,'two':dat_2} }\n",
    "    "
   ]
  },
  {
   "cell_type": "code",
   "execution_count": 18,
   "metadata": {},
   "outputs": [],
   "source": [
    "def get_scores_from_location(location):\n",
    "    dat=train[ train['location']==location ]\n",
    "    dat_0 = dat[ dat['fault_severity'] == 0 ].fault_severity.count()\n",
    "    dat_1 = dat[ dat['fault_severity'] == 1 ].fault_severity.count()\n",
    "    dat_2 = dat[ dat['fault_severity'] == 2 ].fault_severity.count()\n",
    "    return {'zero':dat_0,'one':dat_1,'two':dat_2}"
   ]
  },
  {
   "cell_type": "code",
   "execution_count": 19,
   "metadata": {},
   "outputs": [],
   "source": [
    "scores = {loc: get_scores_from_location(loc) for loc in locations}"
   ]
  },
  {
   "cell_type": "code",
   "execution_count": 20,
   "metadata": {},
   "outputs": [],
   "source": [
    "df_fault_severity_from_location = pd.DataFrame.from_dict(scores, orient='index')"
   ]
  },
  {
   "cell_type": "code",
   "execution_count": 21,
   "metadata": {},
   "outputs": [],
   "source": [
    "df_fault_severity_from_location = df_fault_severity_from_location.sort_index()"
   ]
  },
  {
   "cell_type": "code",
   "execution_count": 22,
   "metadata": {},
   "outputs": [
    {
     "data": {
      "text/plain": [
       "<matplotlib.axes._subplots.AxesSubplot at 0x7fd41b8f2e50>"
      ]
     },
     "execution_count": 22,
     "metadata": {},
     "output_type": "execute_result"
    },
    {
     "data": {
      "image/png": "[encoded data removed]",
      "text/plain": [
       "<Figure size 432x288 with 1 Axes>"
      ]
     },
     "metadata": {
      "needs_background": "light"
     },
     "output_type": "display_data"
    }
   ],
   "source": [
    "df_fault_severity_from_location.plot()"
   ]
  },
  {
   "cell_type": "markdown",
   "metadata": {},
   "source": [
    "La gráfica anterior muestra la frecuencia de \"fault_severity\" por \"location\".\n",
    "Se puede observar que para \"locations\" por debajo de ~ 580 los \"fault_severity\"\n",
    "que predominan son aquellos con ninguna falla (azul-zero), seguidos por los \n",
    "de unas pocas fallas (naranja-one) y al final los correspondientes a muchas \n",
    "fallas (verde-two). Para valores mayores a 580 de \"location\", las frecuencias \n",
    "se empalman. Estos dos comportamientos indican que el hecho de considedad \n",
    "únicamente la variable \"location\" para generar un modelo predictivo puede generar \n",
    "resultados con gran error para \"locations\" mayores a 580 y con menor error \n",
    "para valores menores."
   ]
  },
  {
   "cell_type": "markdown",
   "metadata": {},
   "source": [
    "# Primer modelo predictivo"
   ]
  },
  {
   "cell_type": "markdown",
   "metadata": {},
   "source": [
    "Con el objetivo de tener un modelo predictivo preliminar utilizando la \n",
    "variable \"locations\", acontinuación se realizara un modelo predictivo \n",
    "con arboles de desición."
   ]
  },
  {
   "cell_type": "code",
   "execution_count": 23,
   "metadata": {},
   "outputs": [],
   "source": [
    "from sklearn.tree import DecisionTreeClassifier"
   ]
  },
  {
   "cell_type": "code",
   "execution_count": 24,
   "metadata": {},
   "outputs": [],
   "source": [
    "preliminary_model = DecisionTreeClassifier(random_state=1)"
   ]
  },
  {
   "cell_type": "code",
   "execution_count": 25,
   "metadata": {},
   "outputs": [],
   "source": [
    "X = train.location\n",
    "y = train.fault_severity\n",
    "X = X.to_numpy().reshape(-1, 1)"
   ]
  },
  {
   "cell_type": "code",
   "execution_count": 26,
   "metadata": {},
   "outputs": [
    {
     "data": {
      "text/plain": [
       "DecisionTreeClassifier(ccp_alpha=0.0, class_weight=None, criterion='gini',\n",
       "                       max_depth=None, max_features=None, max_leaf_nodes=None,\n",
       "                       min_impurity_decrease=0.0, min_impurity_split=None,\n",
       "                       min_samples_leaf=1, min_samples_split=2,\n",
       "                       min_weight_fraction_leaf=0.0, presort='deprecated',\n",
       "                       random_state=1, splitter='best')"
      ]
     },
     "execution_count": 26,
     "metadata": {},
     "output_type": "execute_result"
    }
   ],
   "source": [
    "preliminary_model.fit(X,y)"
   ]
  },
  {
   "cell_type": "code",
   "execution_count": 27,
   "metadata": {},
   "outputs": [],
   "source": [
    "# Ahora es hora de predecir aplicando el modelo a los datos \"test\"\n",
    "val_X = test.location\n",
    "val_X = val_X.to_numpy().reshape(-1, 1)\n",
    "val_y = preliminary_model.predict(val_X)"
   ]
  },
  {
   "cell_type": "code",
   "execution_count": 28,
   "metadata": {},
   "outputs": [],
   "source": [
    "def get_prob(val_y,name):\n",
    "    categorical_result=[]\n",
    "    for val in val_y: \n",
    "        if(val==0):\n",
    "            categorical_result.append([1,0,0])\n",
    "        elif (val==1):\n",
    "            categorical_result.append([0,1,0])\n",
    "        else:\n",
    "            categorical_result.append([0,0,1])            \n",
    "    r=pd.DataFrame(categorical_result, columns=['predict_0','predict_1','predict_2'])\n",
    "    r.to_csv(name+'.csv')\n",
    "    return r"
   ]
  },
  {
   "cell_type": "code",
   "execution_count": 29,
   "metadata": {},
   "outputs": [],
   "source": [
    "loc_only=get_prob(val_y,'location_only')"
   ]
  },
  {
   "cell_type": "code",
   "execution_count": 30,
   "metadata": {},
   "outputs": [
    {
     "data": {
      "text/plain": [
       "0.7217179244004878"
      ]
     },
     "execution_count": 30,
     "metadata": {},
     "output_type": "execute_result"
    }
   ],
   "source": [
    "accuracy_score(pd.DataFrame(preliminary_model.predict(X)),y)"
   ]
  },
  {
   "cell_type": "markdown",
   "metadata": {},
   "source": [
    "# Segundo modelo predictivo (árboles de decisión)"
   ]
  },
  {
   "cell_type": "markdown",
   "metadata": {},
   "source": [
    "### Uniendo tablas para obtener propiedades"
   ]
  },
  {
   "cell_type": "code",
   "execution_count": 31,
   "metadata": {},
   "outputs": [],
   "source": [
    "# Uniendo tablas para test\n",
    "ntest = test\n",
    "ntest=ntest.join(event_type.set_index('id'), on='id').join(severity_type.set_index('id'), on='id').join(resource_type.set_index('id'), on='id').join(log_feature.set_index('id'), on='id')\n",
    "val_X=ntest[['location', ' event_type', 'severity_type',' resource_type', 'log_feature', 'volume']]"
   ]
  },
  {
   "cell_type": "code",
   "execution_count": 32,
   "metadata": {},
   "outputs": [],
   "source": [
    "# Uniendo tablas para train\n",
    "ntrain = train[['id','fault_severity','location']]\n",
    "n1=ntrain.join(event_type.set_index('id'), on='id').join(severity_type.set_index('id'), on='id').join(resource_type.set_index('id'), on='id').join(log_feature.set_index('id'), on='id')"
   ]
  },
  {
   "cell_type": "code",
   "execution_count": 33,
   "metadata": {},
   "outputs": [],
   "source": [
    "# Vamos a separa los datos en (X,y) de train\n",
    "X=n1[['location', ' event_type', 'severity_type',' resource_type', 'log_feature', 'volume']]\n",
    "y=n1[['fault_severity']]"
   ]
  },
  {
   "cell_type": "code",
   "execution_count": 34,
   "metadata": {},
   "outputs": [],
   "source": [
    "# Creando modelo DecisionTreeClassifier\n",
    "model_all_data = DecisionTreeClassifier(random_state=1)"
   ]
  },
  {
   "cell_type": "code",
   "execution_count": 35,
   "metadata": {},
   "outputs": [
    {
     "data": {
      "text/plain": [
       "DecisionTreeClassifier(ccp_alpha=0.0, class_weight=None, criterion='gini',\n",
       "                       max_depth=None, max_features=None, max_leaf_nodes=None,\n",
       "                       min_impurity_decrease=0.0, min_impurity_split=None,\n",
       "                       min_samples_leaf=1, min_samples_split=2,\n",
       "                       min_weight_fraction_leaf=0.0, presort='deprecated',\n",
       "                       random_state=1, splitter='best')"
      ]
     },
     "execution_count": 35,
     "metadata": {},
     "output_type": "execute_result"
    }
   ],
   "source": [
    "# Entrenando modelo\n",
    "model_all_data.fit(X,y.values.ravel())"
   ]
  },
  {
   "cell_type": "code",
   "execution_count": null,
   "metadata": {},
   "outputs": [],
   "source": []
  },
  {
   "cell_type": "code",
   "execution_count": 36,
   "metadata": {},
   "outputs": [],
   "source": [
    "# Predición sobre 'test'\n",
    "val_y=model_all_data.predict(val_X)"
   ]
  },
  {
   "cell_type": "code",
   "execution_count": 37,
   "metadata": {},
   "outputs": [],
   "source": [
    "# Poniendo las predicciones dentro de un DataFrame\n",
    "predic_df=pd.DataFrame(data=val_y, columns=[\"fault_severity\"])"
   ]
  },
  {
   "cell_type": "code",
   "execution_count": 38,
   "metadata": {},
   "outputs": [],
   "source": [
    "ntest['fault_severity']=predic_df"
   ]
  },
  {
   "cell_type": "code",
   "execution_count": 39,
   "metadata": {},
   "outputs": [
    {
     "data": {
      "text/html": [
       "<div>\n",
       "<style scoped>\n",
       "    .dataframe tbody tr th:only-of-type {\n",
       "        vertical-align: middle;\n",
       "    }\n",
       "\n",
       "    .dataframe tbody tr th {\n",
       "        vertical-align: top;\n",
       "    }\n",
       "\n",
       "    .dataframe thead th {\n",
       "        text-align: right;\n",
       "    }\n",
       "</style>\n",
       "<table border=\"1\" class=\"dataframe\">\n",
       "  <thead>\n",
       "    <tr style=\"text-align: right;\">\n",
       "      <th></th>\n",
       "      <th>id</th>\n",
       "      <th>location</th>\n",
       "      <th>event_type</th>\n",
       "      <th>severity_type</th>\n",
       "      <th>resource_type</th>\n",
       "      <th>log_feature</th>\n",
       "      <th>volume</th>\n",
       "      <th>fault_severity</th>\n",
       "    </tr>\n",
       "  </thead>\n",
       "  <tbody>\n",
       "    <tr>\n",
       "      <th>0</th>\n",
       "      <td>11066</td>\n",
       "      <td>481</td>\n",
       "      <td>35</td>\n",
       "      <td>2</td>\n",
       "      <td>2</td>\n",
       "      <td>230</td>\n",
       "      <td>24</td>\n",
       "      <td>0</td>\n",
       "    </tr>\n",
       "    <tr>\n",
       "      <th>0</th>\n",
       "      <td>11066</td>\n",
       "      <td>481</td>\n",
       "      <td>35</td>\n",
       "      <td>2</td>\n",
       "      <td>2</td>\n",
       "      <td>310</td>\n",
       "      <td>28</td>\n",
       "      <td>0</td>\n",
       "    </tr>\n",
       "    <tr>\n",
       "      <th>0</th>\n",
       "      <td>11066</td>\n",
       "      <td>481</td>\n",
       "      <td>35</td>\n",
       "      <td>2</td>\n",
       "      <td>2</td>\n",
       "      <td>228</td>\n",
       "      <td>20</td>\n",
       "      <td>0</td>\n",
       "    </tr>\n",
       "    <tr>\n",
       "      <th>0</th>\n",
       "      <td>11066</td>\n",
       "      <td>481</td>\n",
       "      <td>35</td>\n",
       "      <td>2</td>\n",
       "      <td>2</td>\n",
       "      <td>308</td>\n",
       "      <td>26</td>\n",
       "      <td>0</td>\n",
       "    </tr>\n",
       "    <tr>\n",
       "      <th>0</th>\n",
       "      <td>11066</td>\n",
       "      <td>481</td>\n",
       "      <td>34</td>\n",
       "      <td>2</td>\n",
       "      <td>2</td>\n",
       "      <td>230</td>\n",
       "      <td>24</td>\n",
       "      <td>0</td>\n",
       "    </tr>\n",
       "    <tr>\n",
       "      <th>...</th>\n",
       "      <td>...</td>\n",
       "      <td>...</td>\n",
       "      <td>...</td>\n",
       "      <td>...</td>\n",
       "      <td>...</td>\n",
       "      <td>...</td>\n",
       "      <td>...</td>\n",
       "      <td>...</td>\n",
       "    </tr>\n",
       "    <tr>\n",
       "      <th>11170</th>\n",
       "      <td>9886</td>\n",
       "      <td>438</td>\n",
       "      <td>35</td>\n",
       "      <td>1</td>\n",
       "      <td>2</td>\n",
       "      <td>219</td>\n",
       "      <td>1</td>\n",
       "      <td>0</td>\n",
       "    </tr>\n",
       "    <tr>\n",
       "      <th>11170</th>\n",
       "      <td>9886</td>\n",
       "      <td>438</td>\n",
       "      <td>34</td>\n",
       "      <td>1</td>\n",
       "      <td>2</td>\n",
       "      <td>301</td>\n",
       "      <td>1</td>\n",
       "      <td>0</td>\n",
       "    </tr>\n",
       "    <tr>\n",
       "      <th>11170</th>\n",
       "      <td>9886</td>\n",
       "      <td>438</td>\n",
       "      <td>34</td>\n",
       "      <td>1</td>\n",
       "      <td>2</td>\n",
       "      <td>221</td>\n",
       "      <td>1</td>\n",
       "      <td>0</td>\n",
       "    </tr>\n",
       "    <tr>\n",
       "      <th>11170</th>\n",
       "      <td>9886</td>\n",
       "      <td>438</td>\n",
       "      <td>34</td>\n",
       "      <td>1</td>\n",
       "      <td>2</td>\n",
       "      <td>134</td>\n",
       "      <td>1</td>\n",
       "      <td>0</td>\n",
       "    </tr>\n",
       "    <tr>\n",
       "      <th>11170</th>\n",
       "      <td>9886</td>\n",
       "      <td>438</td>\n",
       "      <td>34</td>\n",
       "      <td>1</td>\n",
       "      <td>2</td>\n",
       "      <td>219</td>\n",
       "      <td>1</td>\n",
       "      <td>0</td>\n",
       "    </tr>\n",
       "  </tbody>\n",
       "</table>\n",
       "<p>84584 rows × 8 columns</p>\n",
       "</div>"
      ],
      "text/plain": [
       "          id  location   event_type  severity_type   resource_type  \\\n",
       "0      11066       481           35              2               2   \n",
       "0      11066       481           35              2               2   \n",
       "0      11066       481           35              2               2   \n",
       "0      11066       481           35              2               2   \n",
       "0      11066       481           34              2               2   \n",
       "...      ...       ...          ...            ...             ...   \n",
       "11170   9886       438           35              1               2   \n",
       "11170   9886       438           34              1               2   \n",
       "11170   9886       438           34              1               2   \n",
       "11170   9886       438           34              1               2   \n",
       "11170   9886       438           34              1               2   \n",
       "\n",
       "       log_feature  volume  fault_severity  \n",
       "0              230      24               0  \n",
       "0              310      28               0  \n",
       "0              228      20               0  \n",
       "0              308      26               0  \n",
       "0              230      24               0  \n",
       "...            ...     ...             ...  \n",
       "11170          219       1               0  \n",
       "11170          301       1               0  \n",
       "11170          221       1               0  \n",
       "11170          134       1               0  \n",
       "11170          219       1               0  \n",
       "\n",
       "[84584 rows x 8 columns]"
      ]
     },
     "execution_count": 39,
     "metadata": {},
     "output_type": "execute_result"
    }
   ],
   "source": [
    "ntest"
   ]
  },
  {
   "cell_type": "code",
   "execution_count": 40,
   "metadata": {},
   "outputs": [],
   "source": [
    "my_predicted_data = ntest[['id','location','fault_severity']]"
   ]
  },
  {
   "cell_type": "code",
   "execution_count": 41,
   "metadata": {},
   "outputs": [],
   "source": [
    "sol_1=my_predicted_data.groupby(['id']).mean().reset_index()"
   ]
  },
  {
   "cell_type": "code",
   "execution_count": 42,
   "metadata": {},
   "outputs": [],
   "source": [
    "other = test[['id']]\n",
    "fin=other.join(sol_1.set_index('id'),on='id')"
   ]
  },
  {
   "cell_type": "code",
   "execution_count": 43,
   "metadata": {},
   "outputs": [],
   "source": [
    "loc_only=get_prob(fin['fault_severity'],'all_features')"
   ]
  },
  {
   "cell_type": "code",
   "execution_count": 44,
   "metadata": {},
   "outputs": [],
   "source": [
    "# Obtención de las probabilidades\n",
    "predict_test=model_all_data.predict_proba(val_X)\n",
    "predicted_df    = pd.DataFrame(predict_test,columns=['predict_0', 'predict_1', 'predict_2'])"
   ]
  },
  {
   "cell_type": "code",
   "execution_count": 45,
   "metadata": {},
   "outputs": [],
   "source": [
    "predicted_df['id'] = ntest['id'].values"
   ]
  },
  {
   "cell_type": "code",
   "execution_count": 46,
   "metadata": {},
   "outputs": [],
   "source": [
    "new_submission_data=predicted_df.groupby(['id']).mean()"
   ]
  },
  {
   "cell_type": "code",
   "execution_count": 47,
   "metadata": {},
   "outputs": [],
   "source": [
    "new_submission_data['id']=new_submission_data.index"
   ]
  },
  {
   "cell_type": "code",
   "execution_count": 48,
   "metadata": {},
   "outputs": [],
   "source": [
    "new_submission_data=new_submission_data[['id','predict_0','predict_1','predict_2']]"
   ]
  },
  {
   "cell_type": "code",
   "execution_count": 49,
   "metadata": {},
   "outputs": [],
   "source": [
    "new_submission_data.to_csv('submission.csv',index=False,header=True)"
   ]
  },
  {
   "cell_type": "code",
   "execution_count": 50,
   "metadata": {},
   "outputs": [
    {
     "data": {
      "text/plain": [
       "0.9252736945940264"
      ]
     },
     "execution_count": 50,
     "metadata": {},
     "output_type": "execute_result"
    }
   ],
   "source": [
    "accuracy_score(pd.DataFrame(model_all_data.predict(X)),y)"
   ]
  },
  {
   "cell_type": "code",
   "execution_count": 51,
   "metadata": {},
   "outputs": [
    {
     "data": {
      "text/plain": [
       "0.9252413525445108"
      ]
     },
     "execution_count": 51,
     "metadata": {},
     "output_type": "execute_result"
    }
   ],
   "source": [
    "0.9252413525445108"
   ]
  },
  {
   "cell_type": "markdown",
   "metadata": {},
   "source": [
    "# Tercer modelo (logistic regression)"
   ]
  },
  {
   "cell_type": "code",
   "execution_count": 52,
   "metadata": {},
   "outputs": [
    {
     "name": "stderr",
     "output_type": "stream",
     "text": [
      "/home/jogabell/anaconda3/lib/python3.7/site-packages/sklearn/linear_model/_logistic.py:940: ConvergenceWarning: lbfgs failed to converge (status=1):\n",
      "STOP: TOTAL NO. of ITERATIONS REACHED LIMIT.\n",
      "\n",
      "Increase the number of iterations (max_iter) or scale the data as shown in:\n",
      "    https://scikit-learn.org/stable/modules/preprocessing.html\n",
      "Please also refer to the documentation for alternative solver options:\n",
      "    https://scikit-learn.org/stable/modules/linear_model.html#logistic-regression\n",
      "  extra_warning_msg=_LOGISTIC_SOLVER_CONVERGENCE_MSG)\n"
     ]
    },
    {
     "data": {
      "text/plain": [
       "LogisticRegression(C=1.0, class_weight=None, dual=False, fit_intercept=True,\n",
       "                   intercept_scaling=1, l1_ratio=None, max_iter=100,\n",
       "                   multi_class='auto', n_jobs=None, penalty='l2',\n",
       "                   random_state=None, solver='lbfgs', tol=0.0001, verbose=0,\n",
       "                   warm_start=False)"
      ]
     },
     "execution_count": 52,
     "metadata": {},
     "output_type": "execute_result"
    }
   ],
   "source": [
    "from sklearn.linear_model import LogisticRegression\n",
    "logreg = LogisticRegression()\n",
    "logreg.fit(X,y.fault_severity.values)"
   ]
  },
  {
   "cell_type": "code",
   "execution_count": 53,
   "metadata": {},
   "outputs": [],
   "source": [
    "y_log_reg_predicted = logreg.predict(val_X)"
   ]
  },
  {
   "cell_type": "code",
   "execution_count": 54,
   "metadata": {},
   "outputs": [
    {
     "data": {
      "text/plain": [
       "84584"
      ]
     },
     "execution_count": 54,
     "metadata": {},
     "output_type": "execute_result"
    }
   ],
   "source": [
    "#loc_only=get_prob(fin['fault_severity'],'all_features') \n",
    "len(y_log_reg_predicted)"
   ]
  },
  {
   "cell_type": "code",
   "execution_count": 55,
   "metadata": {},
   "outputs": [],
   "source": [
    "def get_DF_id_fault_severity(y_predicted):\n",
    "    # Copiando id en nuevo DF\n",
    "    otra = pd.DataFrame(ntest['id'],columns=['id'])\n",
    "    # Agregando 'fault_severity' predichos en el DF\n",
    "    otra['fault_severity'] = y_predicted\n",
    "    # Creando DF (res) con 'id' y 'fault_severity' predichos en el DF\n",
    "    res=otra.groupby(['id']).mean().reset_index()\n",
    "    return res"
   ]
  },
  {
   "cell_type": "code",
   "execution_count": 56,
   "metadata": {},
   "outputs": [],
   "source": [
    "df_log_reg=get_DF_id_fault_severity(y_log_reg_predicted)"
   ]
  },
  {
   "cell_type": "code",
   "execution_count": 57,
   "metadata": {},
   "outputs": [],
   "source": [
    "r_log_reg=get_prob(df_log_reg['fault_severity'],'log_regression')"
   ]
  },
  {
   "cell_type": "markdown",
   "metadata": {},
   "source": [
    "#### Accuracy score"
   ]
  },
  {
   "cell_type": "code",
   "execution_count": 58,
   "metadata": {},
   "outputs": [
    {
     "data": {
      "text/plain": [
       "0.5778068856223418"
      ]
     },
     "execution_count": 58,
     "metadata": {},
     "output_type": "execute_result"
    }
   ],
   "source": [
    "accuracy_score(pd.DataFrame(logreg.predict(X)),y)"
   ]
  },
  {
   "cell_type": "markdown",
   "metadata": {},
   "source": [
    "# Model Random Forest Classifier"
   ]
  },
  {
   "cell_type": "code",
   "execution_count": 73,
   "metadata": {},
   "outputs": [],
   "source": [
    "from sklearn.ensemble import RandomForestClassifier\n",
    "random_final = RandomForestClassifier(n_estimators=2000)\n",
    "#random_final = RandomForestClassifier(max_depth= 3,\n",
    "#                                      min_samples_leaf= 150,\n",
    "#                                      min_samples_split= 300,\n",
    "#                                      n_estimators= 500)"
   ]
  },
  {
   "cell_type": "code",
   "execution_count": null,
   "metadata": {},
   "outputs": [],
   "source": [
    "random_final.fit(X,y.values.ravel())"
   ]
  },
  {
   "cell_type": "code",
   "execution_count": null,
   "metadata": {},
   "outputs": [],
   "source": [
    "pred_fin = random_final.predict(val_X)"
   ]
  },
  {
   "cell_type": "code",
   "execution_count": null,
   "metadata": {},
   "outputs": [],
   "source": [
    "accuracy_score(pd.DataFrame(random_final.predict(X)),y)"
   ]
  },
  {
   "cell_type": "code",
   "execution_count": 71,
   "metadata": {},
   "outputs": [
    {
     "data": {
      "text/html": [
       "<div>\n",
       "<style scoped>\n",
       "    .dataframe tbody tr th:only-of-type {\n",
       "        vertical-align: middle;\n",
       "    }\n",
       "\n",
       "    .dataframe tbody tr th {\n",
       "        vertical-align: top;\n",
       "    }\n",
       "\n",
       "    .dataframe thead th {\n",
       "        text-align: right;\n",
       "    }\n",
       "</style>\n",
       "<table border=\"1\" class=\"dataframe\">\n",
       "  <thead>\n",
       "    <tr style=\"text-align: right;\">\n",
       "      <th></th>\n",
       "      <th>id</th>\n",
       "      <th>predict_0</th>\n",
       "      <th>predict_1</th>\n",
       "      <th>predict_2</th>\n",
       "    </tr>\n",
       "    <tr>\n",
       "      <th>id</th>\n",
       "      <th></th>\n",
       "      <th></th>\n",
       "      <th></th>\n",
       "      <th></th>\n",
       "    </tr>\n",
       "  </thead>\n",
       "  <tbody>\n",
       "    <tr>\n",
       "      <th>2</th>\n",
       "      <td>2</td>\n",
       "      <td>0.870577</td>\n",
       "      <td>0.127602</td>\n",
       "      <td>0.001821</td>\n",
       "    </tr>\n",
       "    <tr>\n",
       "      <th>3</th>\n",
       "      <td>3</td>\n",
       "      <td>0.408732</td>\n",
       "      <td>0.372174</td>\n",
       "      <td>0.219094</td>\n",
       "    </tr>\n",
       "    <tr>\n",
       "      <th>4</th>\n",
       "      <td>4</td>\n",
       "      <td>0.590090</td>\n",
       "      <td>0.288123</td>\n",
       "      <td>0.121787</td>\n",
       "    </tr>\n",
       "    <tr>\n",
       "      <th>7</th>\n",
       "      <td>7</td>\n",
       "      <td>0.457039</td>\n",
       "      <td>0.330501</td>\n",
       "      <td>0.212460</td>\n",
       "    </tr>\n",
       "    <tr>\n",
       "      <th>9</th>\n",
       "      <td>9</td>\n",
       "      <td>0.358368</td>\n",
       "      <td>0.277821</td>\n",
       "      <td>0.363811</td>\n",
       "    </tr>\n",
       "  </tbody>\n",
       "</table>\n",
       "</div>"
      ],
      "text/plain": [
       "    id  predict_0  predict_1  predict_2\n",
       "id                                     \n",
       "2    2   0.870577   0.127602   0.001821\n",
       "3    3   0.408732   0.372174   0.219094\n",
       "4    4   0.590090   0.288123   0.121787\n",
       "7    7   0.457039   0.330501   0.212460\n",
       "9    9   0.358368   0.277821   0.363811"
      ]
     },
     "execution_count": 71,
     "metadata": {},
     "output_type": "execute_result"
    }
   ],
   "source": [
    "# Obtención de las probabilidades\n",
    "predict_test    = random_final.predict_proba(val_X)\n",
    "predicted_RANDOM_FOREST    = pd.DataFrame(predict_test,columns=['predict_0', 'predict_1', 'predict_2'])\n",
    "predicted_RANDOM_FOREST['id'] = ntest['id'].values\n",
    "new_submission_data=predicted_RANDOM_FOREST.groupby(['id']).mean()\n",
    "\n",
    "new_submission_data['id']=new_submission_data.index\n",
    "new_submission_data=new_submission_data[['id','predict_0','predict_1','predict_2']]\n",
    "new_submission_data.head()"
   ]
  },
  {
   "cell_type": "code",
   "execution_count": 72,
   "metadata": {},
   "outputs": [],
   "source": [
    "new_submission_data.to_csv('submission_random_forest_n_estimators_2000_5.csv',index=False,header=True)"
   ]
  },
  {
   "cell_type": "code",
   "execution_count": null,
   "metadata": {},
   "outputs": [],
   "source": []
  }
 ],
 "metadata": {
  "kernelspec": {
   "display_name": "Python 3",
   "language": "python",
   "name": "python3"
  },
  "language_info": {
   "codemirror_mode": {
    "name": "ipython",
    "version": 3
   },
   "file_extension": ".py",
   "mimetype": "text/x-python",
   "name": "python",
   "nbconvert_exporter": "python",
   "pygments_lexer": "ipython3",
   "version": "3.7.6"
  }
 },
 "nbformat": 4,
 "nbformat_minor": 4
}
